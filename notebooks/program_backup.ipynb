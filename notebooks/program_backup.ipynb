{
 "cells": [
  {
   "cell_type": "code",
   "execution_count": null,
   "metadata": {
    "collapsed": true
   },
   "outputs": [],
   "source": [
    "import os\n",
    "import subprocess\n",
    "import glob\n",
    "from shutil import move, copy\n",
    "\n",
    "from git import Repo,remote\n",
    "\n",
    "program_folder = './programs/'\n",
    "os.makedirs(program_folder, exist_ok=True)\n",
    "\n",
    "notebook_folder = program_folder + './notebooks/'\n",
    "os.makedirs(notebook_folder, exist_ok=True)\n",
    "\n",
    "python_folder = program_folder +'./python/'\n",
    "os.makedirs(python_folder, exist_ok=True)\n",
    "\n",
    "pdf_folder = program_folder +'./pdf/'\n",
    "os.makedirs(pdf_folder, exist_ok=True)\n",
    "\n",
    "notebook_list = glob.glob('*.ipynb')\n",
    "print('Notebook List:', notebook_list)            \n",
    "for filename in notebook_list:\n",
    "    subprocess.check_call(['jupyter', 'nbconvert', '--to', 'script', filename])\n",
    "    #subprocess.call(['jupyter', 'nbconvert', '--to', 'pdf', filename])\n",
    "\n",
    "for filename in notebook_list:\n",
    "    try:\n",
    "        copy(filename, notebook_folder)\n",
    "        print('copied:', filename)\n",
    "        filename = filename.split('.')[0]+'.py'\n",
    "        move(filename, python_folder)\n",
    "        print('moved:', filename)\n",
    "        filename = filename.split('.')[0]+'.pdf'\n",
    "        move(filename, pdf_folder)\n",
    "        print('moved:', filename)\n",
    "        print('******************')\n",
    "    except Exception as err:\n",
    "        print(err)\n",
    "\n",
    "os.chdir(program_folder)\n",
    "subprocess.check_call('git add .', shell=True)\n",
    "subprocess.check_call('git commit -m \"New updates\"', shell=True)\n",
    "subprocess.check_call('git push -u origin master', shell=True)\n",
    "\n",
    "# #remote_url = 'https://github.com/arpitgawande/newFinal.git'        \n",
    "# repo = Repo(program_folder)\n",
    "# origin = repo.remote(name='origin')\n",
    "# #origin = repo.create_remote('origin', url=remote_url)\n",
    "# assert origin.exists()\n",
    "# repo.index.add(['./*'])\n",
    "# master = repo.heads.master\n",
    "# repo.git.commit('-m', 'New Updates', author='Arpit')\n",
    "# origin.push()"
   ]
  }
 ],
 "metadata": {
  "kernelspec": {
   "display_name": "Python [py36]",
   "language": "python",
   "name": "Python [py36]"
  },
  "language_info": {
   "codemirror_mode": {
    "name": "ipython",
    "version": 3
   },
   "file_extension": ".py",
   "mimetype": "text/x-python",
   "name": "python",
   "nbconvert_exporter": "python",
   "pygments_lexer": "ipython3",
   "version": "3.6.3"
  }
 },
 "nbformat": 4,
 "nbformat_minor": 2
}
