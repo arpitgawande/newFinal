{
 "cells": [
  {
   "cell_type": "code",
   "execution_count": 2,
   "metadata": {
    "collapsed": true
   },
   "outputs": [],
   "source": [
    "# Common Imports\n",
    "\n",
    "#Pandas for creating dataframes\n",
    "import pandas as pd\n",
    "#Sklearn\n",
    "from sklearn import preprocessing\n",
    "#K-means clustering algo\n",
    "from sklearn.cluster import KMeans\n",
    "#OS moduled for file oprations\n",
    "import os\n",
    "#CSV module\n",
    "import csv"
   ]
  },
  {
   "cell_type": "code",
   "execution_count": 3,
   "metadata": {
    "collapsed": true
   },
   "outputs": [],
   "source": [
    "#Folder Base Path\n",
    "base_path = 'converted/test2/'"
   ]
  },
  {
   "cell_type": "code",
   "execution_count": 8,
   "metadata": {
    "collapsed": true
   },
   "outputs": [],
   "source": [
    "#Cluster Path\n",
    "#Normal\n",
    "sample_path = base_path+'samples/'\n",
    "cluster_path = base_path+'ip_cluster/'\n",
    "#Attack\n",
    "#sample_path = base_path+'attack_samples/2/'\n",
    "#cluster_path = base_path+'attack_ip_cluster/2/'"
   ]
  },
  {
   "cell_type": "code",
   "execution_count": 9,
   "metadata": {
    "collapsed": false
   },
   "outputs": [
    {
     "name": "stderr",
     "output_type": "stream",
     "text": [
      "C:\\Users\\Tuli\\Anaconda3\\lib\\site-packages\\sklearn\\utils\\validation.py:475: DataConversionWarning: Data with input dtype int32 was converted to float64 by StandardScaler.\n",
      "  warnings.warn(msg, DataConversionWarning)\n"
     ]
    }
   ],
   "source": [
    "first = True\n",
    "ip_dict = dict()\n",
    "sample_count = 1;\n",
    "for filename in os.listdir(sample_path):\n",
    "    tdf = pd.read_csv(sample_path+filename, index_col=0)\n",
    "    #Filter Columns\n",
    "    t = tdf[['ip.dst', 'ip.proto', 'sniff_timestamp', 'sample']]\n",
    "    #Remove null destinations\n",
    "    t = t[t['ip.dst'].notnull()]\n",
    "    #Rename Columns\n",
    "    t.columns = ['ip', 'proto', 'time_stamp', 'sample']\n",
    "    #Get count for each ip\n",
    "    df = t.groupby(['ip', 'proto']).size().unstack().fillna(0).astype(int)\n",
    "    #Select TCP and UDP as only fetures (TCP:6, UDP:17)\n",
    "    #df = df[[6,17]]\n",
    "    #Get value matrix\n",
    "    X = df.values\n",
    "    #Create scaling\n",
    "    scaler = preprocessing.StandardScaler().fit(X)\n",
    "    #Transform Traning data\n",
    "    X_trans = scaler.transform(X)\n",
    "    #Define Number of Clusters\n",
    "    cluster_count = 6\n",
    "    #Data Fitting using K-means\n",
    "    if first:\n",
    "        kmeans = KMeans(n_clusters=cluster_count)\n",
    "        kmeans.fit(X_trans)\n",
    "        centroids_array=kmeans.cluster_centers_\n",
    "    else:\n",
    "        kmeans = KMeans(n_clusters=cluster_count, init=centroids_array)\n",
    "        kmeans.fit(X_trans)\n",
    "    #Attaching label/cluster to IP\n",
    "    ip_series = pd.Series(df.index, name='ip')\n",
    "    label_series = pd.Series(kmeans.labels_, name='label')\n",
    "    ip_label_df = pd.concat([ip_series, label_series], axis=1).set_index('ip')\n",
    "    if not os.path.exists(cluster_path):\n",
    "        os.makedirs(cluster_path)\n",
    "    ip_label_df.to_csv(cluster_path+str(sample_count))\n",
    "    sample_count += 1"
   ]
  },
  {
   "cell_type": "code",
   "execution_count": 10,
   "metadata": {
    "collapsed": true
   },
   "outputs": [],
   "source": [
    "#Cluster Assignment\n",
    "from itertools import groupby\n",
    "ip_dict = dict()\n",
    "\n",
    "for filename in os.listdir(cluster_path):\n",
    "    with open(cluster_path+filename, newline='') as csvfile:\n",
    "        reader = csv.DictReader(csvfile)\n",
    "        for row in reader:\n",
    "            if row['ip'] in ip_dict:\n",
    "                #print(row['ip'],ip_dict[row['ip']])\n",
    "                ip_dict[row['ip']] = ip_dict[row['ip']] + [row['label']]\n",
    "            else:\n",
    "                ip_dict[row['ip']] = [row['label']]"
   ]
  },
  {
   "cell_type": "code",
   "execution_count": 15,
   "metadata": {
    "collapsed": true
   },
   "outputs": [],
   "source": [
    "#Find how many time destination has been assigned a given cluster\n",
    "ip_cluster_dict = dict()\n",
    "for key, value in ip_dict.items():\n",
    "    ip_cluster_dict[key] = {k: len(list(group)) for k, group in groupby(value)}"
   ]
  },
  {
   "cell_type": "code",
   "execution_count": null,
   "metadata": {
    "collapsed": true
   },
   "outputs": [],
   "source": []
  }
 ],
 "metadata": {
  "anaconda-cloud": {},
  "kernelspec": {
   "display_name": "Python 3",
   "language": "python",
   "name": "python3"
  },
  "language_info": {
   "codemirror_mode": {
    "name": "ipython",
    "version": 3
   },
   "file_extension": ".py",
   "mimetype": "text/x-python",
   "name": "python",
   "nbconvert_exporter": "python",
   "pygments_lexer": "ipython3",
   "version": "3.6.3"
  }
 },
 "nbformat": 4,
 "nbformat_minor": 2
}
