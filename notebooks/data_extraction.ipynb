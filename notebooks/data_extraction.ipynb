{
 "cells": [
  {
   "cell_type": "code",
   "execution_count": null,
   "metadata": {
    "collapsed": true
   },
   "outputs": [],
   "source": [
    "# Common Imports\n",
    "\n",
    "#Pandas for creating dataframes\n",
    "import pandas as pd\n",
    "\n",
    "#Pyshark to capture packets\n",
    "import pyshark\n",
    "#For file operarions\n",
    "import os\n",
    "import gc\n",
    "import sys"
   ]
  },
  {
   "cell_type": "code",
   "execution_count": null,
   "metadata": {
    "collapsed": true
   },
   "outputs": [],
   "source": [
    "#Define required attributed needed to extract from capture.\n",
    "required_keys = ['ip.dst', 'ip.proto', 'tcp.flags.syn', 'tcp.flags.ack']"
   ]
  },
  {
   "cell_type": "code",
   "execution_count": null,
   "metadata": {
    "collapsed": true
   },
   "outputs": [],
   "source": [
    "# Reading packets from pre-captured file\n",
    "file_cap = pyshark.FileCapture('captures/latest/attack2.pcapng')"
   ]
  },
  {
   "cell_type": "code",
   "execution_count": null,
   "metadata": {
    "collapsed": true
   },
   "outputs": [],
   "source": [
    "%time\n",
    "# These are the usual ipython objects, including this one you are creating\n",
    "ipython_vars = ['In', 'Out', 'exit', 'quit', 'get_ipython', 'ipython_vars']\n",
    "\n",
    "# Filter data from the captured packets for further processing\n",
    "#Debugger for pyshark\n",
    "#file_cap.set_debug()\n",
    "\n",
    "#Attributes for sample size\n",
    "startTime = 0.0\n",
    "endTime = 0.0\n",
    "i = -1\n",
    "first = True\n",
    "#Write extraction result to \n",
    "base_directory = 'converted/test2/attack_samples/2/'\n",
    "#Sample Number\n",
    "init_sample = 1\n",
    "dfList = []\n",
    "while(True):\n",
    "    i += 1\n",
    "    #Each packet can have multiple layers (e.g eth, ip, tcp etc.).\n",
    "    #Combine them in list for a single packet.\n",
    "    layerList = []\n",
    "    #pyshark not able to handle AttributeError, AssertionError and KeyError(index values)\n",
    "    try:\n",
    "        #Iterate through layers of packet\n",
    "        for layer in file_cap[i]:\n",
    "            # Slice Data according to time\n",
    "            t = float(file_cap[i].sniff_timestamp)\n",
    "            #Initial setup\n",
    "            if startTime == 0.0:\n",
    "                startTime = t\n",
    "                endTime = startTime + 300 # 300 sec(5 min) is the sample size\n",
    "                sample = init_sample\n",
    "                print(sample, startTime, endTime)\n",
    "            # Write every sample to csv file\n",
    "            elif t > endTime:\n",
    "                if not os.path.exists(base_directory):\n",
    "                    os.makedirs(base_directory)\n",
    "                dfList.to_csv(base_directory+str(sample))\n",
    "                #Clear list after writing this would save memory\n",
    "                startTime = endTime\n",
    "                endTime = startTime + 300\n",
    "                sample += 1\n",
    "                #Reset after writing to file\n",
    "                first = True\n",
    "                print(sample, startTime, endTime)\n",
    "                gc.collect()\n",
    "            #We need only ip layer only\n",
    "            if layer._layer_name == 'ip':\n",
    "                #Layer values are in the form of dictionary. Filter the attributes\n",
    "                layer_dict = \n",
    "                {key:value for key, value in layer._all_fields.items() if key in required_keys}\n",
    "                #Create dataframe from dictionary\n",
    "                layerList.append(pd.DataFrame(layer_dict, index=[0]))\n",
    "                #Add timestamp and sample number\n",
    "                layerList.append(pd.DataFrame({'sniff_timestamp':file_cap[i].sniff_timestamp}, index=[0]))\n",
    "                layerList.append(pd.DataFrame({'sample':sample}, index=[0]))\n",
    "                #Build packet dataframe from layer frames. Its single row dataframe\n",
    "                cDf = pd.concat(layerList, axis=1);\n",
    "                if first:\n",
    "                    dfList = cDf\n",
    "                    first = False\n",
    "                else:\n",
    "                    dfList = dfList.append(cDf, ignore_index=True)\n",
    "        # Get a sorted list of the objects and their sizes\n",
    "        #objSet = sorted([(x, sys.getsizeof(globals().get(x))) for x in dir() if not x.startswith('_') and x not in sys.modules and x not in ipython_vars], key=lambda x: x[1], reverse=True)\n",
    "        #print(sys.getsizeof(globals().get('dfList')))\n",
    "    except (AttributeError, AssertionError) as e:\n",
    "        continue  #print('Ipv4 packet does not exist')\n",
    "    except  KeyError:\n",
    "        break;\n",
    "\n",
    "#If sample data is not written to file because for frame size\n",
    "if(sample == init_sample):\n",
    "    dfList.to_csv(base_directory+str(init_sample))"
   ]
  },
  {
   "cell_type": "code",
   "execution_count": null,
   "metadata": {
    "collapsed": true
   },
   "outputs": [],
   "source": []
  }
 ],
 "metadata": {
  "kernelspec": {
   "display_name": "Python 3",
   "language": "python",
   "name": "python3"
  },
  "language_info": {
   "codemirror_mode": {
    "name": "ipython",
    "version": 3
   },
   "file_extension": ".py",
   "mimetype": "text/x-python",
   "name": "python",
   "nbconvert_exporter": "python",
   "pygments_lexer": "ipython3",
   "version": "3.6.3"
  }
 },
 "nbformat": 4,
 "nbformat_minor": 2
}
