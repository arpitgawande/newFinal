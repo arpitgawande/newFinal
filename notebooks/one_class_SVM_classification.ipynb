{
 "cells": [
  {
   "cell_type": "code",
   "execution_count": 2,
   "metadata": {
    "collapsed": true
   },
   "outputs": [],
   "source": [
    "# Common Imports\n",
    "#Pandas for creating dataframes\n",
    "import pandas as pd\n",
    "#Sklearn\n",
    "from sklearn import preprocessing\n",
    "#OS moduled for file oprations\n",
    "import os\n",
    "#CSV module\n",
    "import csv\n",
    "#SKlearn SVM\n",
    "from sklearn import svm"
   ]
  },
  {
   "cell_type": "code",
   "execution_count": 3,
   "metadata": {
    "collapsed": true
   },
   "outputs": [],
   "source": [
    "#Folder Base Path\n",
    "base_path = 'converted/test2/'"
   ]
  },
  {
   "cell_type": "code",
   "execution_count": 38,
   "metadata": {
    "collapsed": true
   },
   "outputs": [],
   "source": [
    "first = True\n",
    "\n",
    "ip_dict = dict()\n",
    "sample_path = base_path+'samples/'\n",
    "#Cluster Path\n",
    "#cluster_path = base_path+'attack_ip_cluster/2/'\n",
    "sample_count = 1;\n",
    "first = True;\n",
    "dfList = []\n",
    "for filename in os.listdir(sample_path):\n",
    "    tdf = pd.read_csv(sample_path+filename, index_col=0)\n",
    "    #Filter Columns\n",
    "    tdf = tdf[['ip.dst', 'ip.proto', 'sniff_timestamp', 'sample']]\n",
    "    #Remove null destinations\n",
    "    tdf = tdf[tdf['ip.dst'].notnull()]\n",
    "    #Rename Columns\n",
    "    tdf.columns = ['ip', 'proto', 'time_stamp', 'sample']\n",
    "    #Get count for each ip\n",
    "    df = tdf.groupby(['ip', 'proto']).size().unstack().fillna(0).astype(int)\n",
    "    df['sample'] = filename\n",
    "    dfList.append(df)    "
   ]
  },
  {
   "cell_type": "code",
   "execution_count": 45,
   "metadata": {
    "collapsed": true
   },
   "outputs": [],
   "source": [
    "#Group all the flow for an IP address for SVM training algorithm.\n",
    "df1 = pd.concat(dfList).sort_index()\n",
    "df1 = df1.reset_index().set_index(['ip','sample'])\n",
    "indexValues = df1.index.get_level_values(0)"
   ]
  },
  {
   "cell_type": "code",
   "execution_count": 80,
   "metadata": {
    "collapsed": true
   },
   "outputs": [],
   "source": [
    "#Use SVM to train on every destination IP\n",
    "svm_dict = dict()\n",
    "for i in indexValues:\n",
    "    X_train = df1.loc[i].values\n",
    "    # fit the model\n",
    "    clf = svm.OneClassSVM(nu=0.1, kernel=\"rbf\", gamma=0.1)\n",
    "    clf.\n",
    "    clf.fit(X_train)\n",
    "    svm_dict[i] = clf"
   ]
  },
  {
   "cell_type": "code",
   "execution_count": 90,
   "metadata": {
    "collapsed": false
   },
   "outputs": [
    {
     "data": {
      "text/plain": [
       "array([-1], dtype=int64)"
      ]
     },
     "execution_count": 90,
     "metadata": {},
     "output_type": "execute_result"
    }
   ],
   "source": [
    "#Predict for the give destination if it is normal or not\n",
    "svm_dict['192.168.0.7'].predict([[0,0,1,1]])"
   ]
  }
 ],
 "metadata": {
  "anaconda-cloud": {},
  "kernelspec": {
   "display_name": "Python 3",
   "language": "python",
   "name": "python3"
  },
  "language_info": {
   "codemirror_mode": {
    "name": "ipython",
    "version": 3
   },
   "file_extension": ".py",
   "mimetype": "text/x-python",
   "name": "python",
   "nbconvert_exporter": "python",
   "pygments_lexer": "ipython3",
   "version": "3.6.3"
  }
 },
 "nbformat": 4,
 "nbformat_minor": 2
}
